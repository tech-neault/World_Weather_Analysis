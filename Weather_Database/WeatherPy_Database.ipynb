{
 "cells": [
  {
   "cell_type": "code",
   "execution_count": 7,
   "id": "1afd5262",
   "metadata": {},
   "outputs": [],
   "source": [
    "# import dependenices.\n",
    "import pandas as pd\n",
    "import numpy as np\n",
    "import matplotlib.pyplot as plt \n",
    "import requests\n",
    "from citipy import citipy\n",
    "from config import weather_api_key\n",
    "from datetime import datetime"
   ]
  },
  {
   "cell_type": "code",
   "execution_count": 8,
   "id": "72c42cd2",
   "metadata": {},
   "outputs": [
    {
     "data": {
      "text/plain": [
       "<zip at 0x7f9ef0b07d40>"
      ]
     },
     "execution_count": 8,
     "metadata": {},
     "output_type": "execute_result"
    }
   ],
   "source": [
    "# Create a new set of 2,000 random latitudes and longitudes.\n",
    "lats = np.random.uniform(low=-90.000, high=90.000, size=2000)\n",
    "lngs = np.random.uniform(low=-180.000, high=180.000, size=2000)\n",
    "lat_lngs = zip(lats, lngs)\n",
    "lat_lngs"
   ]
  },
  {
   "cell_type": "code",
   "execution_count": 9,
   "id": "bcc07312",
   "metadata": {},
   "outputs": [
    {
     "name": "stdout",
     "output_type": "stream",
     "text": [
      "[(53.747361496395, 72.36992867980567), (46.316532516433995, 152.06283262069854), (76.20017240659627, -150.71084011025653)]\n"
     ]
    }
   ],
   "source": [
    "#previww coordinates and structure.\n",
    "coordinates = list(lat_lngs)\n",
    "print(coordinates[0:3])"
   ]
  },
  {
   "cell_type": "code",
   "execution_count": 10,
   "id": "fb37c7cf",
   "metadata": {},
   "outputs": [
    {
     "data": {
      "text/plain": [
       "717"
      ]
     },
     "execution_count": 10,
     "metadata": {},
     "output_type": "execute_result"
    }
   ],
   "source": [
    "# Create a list to hold the cities.\n",
    "cities = []\n",
    "# Identify the nearest city for each latitude and longitude combination.\n",
    "for coordinate in coordinates:\n",
    "    city = citipy.nearest_city(coordinate[0], coordinate[1]).city_name\n",
    "\n",
    "    # If the city is unique, then we will add it to the cities list.\n",
    "    if city not in cities:\n",
    "        cities.append(city)\n",
    "# Print the city count to confirm sufficient count.\n",
    "len(cities)"
   ]
  },
  {
   "cell_type": "code",
   "execution_count": 11,
   "id": "5c0ddec9",
   "metadata": {},
   "outputs": [
    {
     "data": {
      "text/plain": [
       "['odesskoye', 'sentyabrskiy', 'barrow', 'bilibino', 'isangel']"
      ]
     },
     "execution_count": 11,
     "metadata": {},
     "output_type": "execute_result"
    }
   ],
   "source": [
    "# preview city data \n",
    "cities[0:5]"
   ]
  },
  {
   "cell_type": "code",
   "execution_count": 12,
   "id": "67fb599a",
   "metadata": {},
   "outputs": [],
   "source": [
    "# create endpoint url API looping\n",
    "url = 'http://api.openweathermap.org/data/2.5/weather?&units=imperial&appid=' + weather_api_key "
   ]
  },
  {
   "cell_type": "code",
   "execution_count": 13,
   "id": "b8d1b8d3",
   "metadata": {},
   "outputs": [],
   "source": [
    "r = requests.get(url + \"&q=\" + cities[13].replace(\" \",\"+\") ).json()"
   ]
  },
  {
   "cell_type": "code",
   "execution_count": 14,
   "id": "056b9734",
   "metadata": {},
   "outputs": [
    {
     "data": {
      "text/plain": [
       "{'coord': {'lon': 99.1328, 'lat': 54.8318},\n",
       " 'weather': [{'id': 803,\n",
       "   'main': 'Clouds',\n",
       "   'description': 'broken clouds',\n",
       "   'icon': '04d'}],\n",
       " 'base': 'stations',\n",
       " 'main': {'temp': -1.08,\n",
       "  'feels_like': -13.68,\n",
       "  'temp_min': -1.08,\n",
       "  'temp_max': -1.08,\n",
       "  'pressure': 1036,\n",
       "  'humidity': 83,\n",
       "  'sea_level': 1036,\n",
       "  'grnd_level': 979},\n",
       " 'visibility': 10000,\n",
       " 'wind': {'speed': 6.96, 'deg': 127, 'gust': 11.65},\n",
       " 'clouds': {'all': 58},\n",
       " 'dt': 1644732388,\n",
       " 'sys': {'country': 'RU', 'sunrise': 1644713459, 'sunset': 1644747876},\n",
       " 'timezone': 28800,\n",
       " 'id': 1491977,\n",
       " 'name': 'Shumskiy',\n",
       " 'cod': 200}"
      ]
     },
     "execution_count": 14,
     "metadata": {},
     "output_type": "execute_result"
    }
   ],
   "source": [
    "r"
   ]
  },
  {
   "cell_type": "code",
   "execution_count": 17,
   "id": "e71ed7f3",
   "metadata": {},
   "outputs": [
    {
     "name": "stdout",
     "output_type": "stream",
     "text": [
      "65 cities skipped.\n",
      "data for 652 cities acquired \n"
     ]
    }
   ],
   "source": [
    "# Create an empty list to hold the weather data.\n",
    "city_data = []\n",
    "skip_count = 0\n",
    "# Loop through all the cities in the list.\n",
    "for i, city in enumerate(cities):\n",
    "    # Create endpoint URL with each city.\n",
    "    city_url = url + \"&q=\" + city.replace(\" \",\"+\")\n",
    "    # Run an API request for each of the cities.\n",
    "    try:\n",
    "        # Parse the JSON and retrieve data.\n",
    "        city_weather = requests.get(city_url).json()\n",
    "        # Parse out the needed data.\n",
    "        city_lat = city_weather[\"coord\"][\"lat\"]\n",
    "        city_lng = city_weather[\"coord\"][\"lon\"]\n",
    "        city_max_temp = city_weather[\"main\"][\"temp_max\"]\n",
    "        city_humidity = city_weather[\"main\"][\"humidity\"]\n",
    "        city_clouds = city_weather[\"clouds\"][\"all\"]\n",
    "        city_wind = city_weather[\"wind\"][\"speed\"]\n",
    "        city_country = city_weather[\"sys\"][\"country\"]\n",
    "        city_weather_description = city_weather['weather'][0]['description']\n",
    "        # Change the date to ISO standard\n",
    "        city_date = datetime.utcfromtimestamp(city_weather[\"dt\"]).strftime('%Y-%m-%d %H:%M:%S')\n",
    "        # Append the city information into city_data list.\n",
    "        city_data.append({\"City\": city.title(),\n",
    "                          \"Country\": city_country,\n",
    "                          \"Lat\": city_lat,\n",
    "                          \"Lng\": city_lng,\n",
    "                          \"Max Temp\": city_max_temp,\n",
    "                          \"Humidity\": city_humidity,\n",
    "                          \"Cloudiness\": city_clouds,\n",
    "                          \"Wind Speed\": city_wind,\n",
    "                          \"Current Description\": city_weather_description})\n",
    "\n",
    "# If an error is experienced, skip the city.\n",
    "    except:\n",
    "        skip_count += 1\n",
    "        continue\n",
    "# print api summary notes\n",
    "print('{} cities skipped.'.format(skip_count)) \n",
    "print('data for {} cities acquired '.format(len(city_data)))\n",
    "\n",
    "# this took forever to load"
   ]
  },
  {
   "cell_type": "code",
   "execution_count": 18,
   "id": "ee80e02b",
   "metadata": {},
   "outputs": [
    {
     "data": {
      "text/html": [
       "<div>\n",
       "<style scoped>\n",
       "    .dataframe tbody tr th:only-of-type {\n",
       "        vertical-align: middle;\n",
       "    }\n",
       "\n",
       "    .dataframe tbody tr th {\n",
       "        vertical-align: top;\n",
       "    }\n",
       "\n",
       "    .dataframe thead th {\n",
       "        text-align: right;\n",
       "    }\n",
       "</style>\n",
       "<table border=\"1\" class=\"dataframe\">\n",
       "  <thead>\n",
       "    <tr style=\"text-align: right;\">\n",
       "      <th></th>\n",
       "      <th>City</th>\n",
       "      <th>Country</th>\n",
       "      <th>Lat</th>\n",
       "      <th>Lng</th>\n",
       "      <th>Max Temp</th>\n",
       "      <th>Humidity</th>\n",
       "      <th>Cloudiness</th>\n",
       "      <th>Wind Speed</th>\n",
       "      <th>Current Description</th>\n",
       "    </tr>\n",
       "  </thead>\n",
       "  <tbody>\n",
       "    <tr>\n",
       "      <th>0</th>\n",
       "      <td>Odesskoye</td>\n",
       "      <td>RU</td>\n",
       "      <td>54.2111</td>\n",
       "      <td>72.9651</td>\n",
       "      <td>7.47</td>\n",
       "      <td>94</td>\n",
       "      <td>95</td>\n",
       "      <td>6.31</td>\n",
       "      <td>overcast clouds</td>\n",
       "    </tr>\n",
       "    <tr>\n",
       "      <th>1</th>\n",
       "      <td>Barrow</td>\n",
       "      <td>US</td>\n",
       "      <td>71.2906</td>\n",
       "      <td>-156.7887</td>\n",
       "      <td>-29.18</td>\n",
       "      <td>75</td>\n",
       "      <td>0</td>\n",
       "      <td>8.05</td>\n",
       "      <td>clear sky</td>\n",
       "    </tr>\n",
       "    <tr>\n",
       "      <th>2</th>\n",
       "      <td>Bilibino</td>\n",
       "      <td>RU</td>\n",
       "      <td>68.0546</td>\n",
       "      <td>166.4372</td>\n",
       "      <td>-25.10</td>\n",
       "      <td>100</td>\n",
       "      <td>100</td>\n",
       "      <td>1.83</td>\n",
       "      <td>overcast clouds</td>\n",
       "    </tr>\n",
       "    <tr>\n",
       "      <th>3</th>\n",
       "      <td>Isangel</td>\n",
       "      <td>VU</td>\n",
       "      <td>-19.5500</td>\n",
       "      <td>169.2667</td>\n",
       "      <td>81.84</td>\n",
       "      <td>81</td>\n",
       "      <td>100</td>\n",
       "      <td>4.99</td>\n",
       "      <td>overcast clouds</td>\n",
       "    </tr>\n",
       "    <tr>\n",
       "      <th>4</th>\n",
       "      <td>Bengkulu</td>\n",
       "      <td>ID</td>\n",
       "      <td>-3.8004</td>\n",
       "      <td>102.2655</td>\n",
       "      <td>84.16</td>\n",
       "      <td>69</td>\n",
       "      <td>97</td>\n",
       "      <td>7.63</td>\n",
       "      <td>overcast clouds</td>\n",
       "    </tr>\n",
       "  </tbody>\n",
       "</table>\n",
       "</div>"
      ],
      "text/plain": [
       "        City Country      Lat       Lng  Max Temp  Humidity  Cloudiness  \\\n",
       "0  Odesskoye      RU  54.2111   72.9651      7.47        94          95   \n",
       "1     Barrow      US  71.2906 -156.7887    -29.18        75           0   \n",
       "2   Bilibino      RU  68.0546  166.4372    -25.10       100         100   \n",
       "3    Isangel      VU -19.5500  169.2667     81.84        81         100   \n",
       "4   Bengkulu      ID  -3.8004  102.2655     84.16        69          97   \n",
       "\n",
       "   Wind Speed Current Description  \n",
       "0        6.31     overcast clouds  \n",
       "1        8.05           clear sky  \n",
       "2        1.83     overcast clouds  \n",
       "3        4.99     overcast clouds  \n",
       "4        7.63     overcast clouds  "
      ]
     },
     "execution_count": 18,
     "metadata": {},
     "output_type": "execute_result"
    }
   ],
   "source": [
    "# review dataframe\n",
    "city_data_df = pd.DataFrame(city_data)\n",
    "city_data_df.head()"
   ]
  },
  {
   "cell_type": "code",
   "execution_count": 19,
   "id": "49f43bc6",
   "metadata": {},
   "outputs": [],
   "source": [
    "# Export the City_Data_DF into a CSV file\n",
    "city_data_df.to_csv('WeatherPy_Database.csv',index_label='City_ID')"
   ]
  },
  {
   "cell_type": "code",
   "execution_count": null,
   "id": "9045948d",
   "metadata": {},
   "outputs": [],
   "source": []
  }
 ],
 "metadata": {
  "kernelspec": {
   "display_name": "PythonData",
   "language": "python",
   "name": "pythondata"
  },
  "language_info": {
   "codemirror_mode": {
    "name": "ipython",
    "version": 3
   },
   "file_extension": ".py",
   "mimetype": "text/x-python",
   "name": "python",
   "nbconvert_exporter": "python",
   "pygments_lexer": "ipython3",
   "version": "3.9.7"
  }
 },
 "nbformat": 4,
 "nbformat_minor": 5
}
